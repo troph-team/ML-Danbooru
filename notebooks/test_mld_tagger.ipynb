{
 "cells": [
  {
   "cell_type": "code",
   "execution_count": null,
   "metadata": {},
   "outputs": [],
   "source": [
    "!aws s3 sync s3://bucket-external/misc/yada_store/bench_images_small/ ./bench_images_small/"
   ]
  },
  {
   "cell_type": "code",
   "execution_count": 3,
   "metadata": {},
   "outputs": [
    {
     "name": "stdout",
     "output_type": "stream",
     "text": [
      "/home/ubuntu/dev/ml-danbooru-tagger/notebooks\n"
     ]
    }
   ],
   "source": [
    "!pwd"
   ]
  },
  {
   "cell_type": "code",
   "execution_count": 1,
   "metadata": {},
   "outputs": [],
   "source": [
    "from ml_danbooru_tagger import infer_batch_with_defaults"
   ]
  },
  {
   "cell_type": "code",
   "execution_count": 2,
   "metadata": {},
   "outputs": [
    {
     "name": "stderr",
     "output_type": "stream",
     "text": [
      "2024-02-05 04:45:02 - ml_danbooru_tagger.demo_ca_in_package - INFO - creating model caformer_m36...\n",
      "2024-02-05 04:45:03 - ml_danbooru_tagger.demo_ca_in_package - INFO - Loading model file from kiriyamaX/mld-caformer\n",
      "2024-02-05 04:45:04 - ml_danbooru_tagger.demo_ca_in_package - INFO - model load done\n",
      "2024-02-05 04:45:04 - ml_danbooru_tagger.demo_ca_in_package - INFO - class map not provided (or not found), downloading from huggingface hub\n",
      "2024-02-05 04:45:04 - ml_danbooru_tagger.demo_ca_in_package - INFO - Loading class map file from kiriyamaX/mld-caformer\n",
      "2024-02-05 04:45:04 - ml_danbooru_tagger.demo_ca_in_package - INFO - loaded 12547 classes\n"
     ]
    },
    {
     "name": "stdout",
     "output_type": "stream",
     "text": [
      "using class map from /home/ubuntu/.cache/huggingface/hub/models--kiriyamaX--mld-caformer/snapshots/f3e76abd5c4fb7d2ceb55d47217fe84c594d9577/mld_caformer_mapping_dict.json\n"
     ]
    },
    {
     "data": {
      "application/vnd.jupyter.widget-view+json": {
       "model_id": "f532fa61fde44fd281741803632fb987",
       "version_major": 2,
       "version_minor": 0
      },
      "text/plain": [
       "  0%|          | 0/12 [00:00<?, ?it/s]"
      ]
     },
     "metadata": {},
     "output_type": "display_data"
    }
   ],
   "source": [
    "bench_tag_dict = infer_batch_with_defaults(\"bench_images_small\")"
   ]
  },
  {
   "cell_type": "code",
   "execution_count": 5,
   "metadata": {},
   "outputs": [
    {
     "data": {
      "text/plain": [
       "180"
      ]
     },
     "execution_count": 5,
     "metadata": {},
     "output_type": "execute_result"
    }
   ],
   "source": [
    "len(bench_tag_dict)"
   ]
  },
  {
   "cell_type": "code",
   "execution_count": 6,
   "metadata": {},
   "outputs": [
    {
     "data": {
      "text/plain": [
       "{'metadata': {'len': 180, 'value_types': {'dict': 180}, 'is_nested': True},\n",
       " 'preview': [('huaban2_ (13).jpg',\n",
       "   {'tag_str': 'ground vehicle, motor vehicle, brown hair, 1girl, skirt, scooter, long hair, cat, brown eyes, pencil skirt, office lady, hat, jacket, road, suit, shirt, crosswalk, formal, city, motorcycle, street, outdoors, dog, solo focus, building, skirt suit, helmet, collared shirt, closed mouth, white shirt, black skirt, black footwear, traffic light, sign, black jacket, pantyhose, standing, road sign',\n",
       "    'tag_probs': {'ground vehicle': 0.99917334,\n",
       "     'motor vehicle': 0.99871135,\n",
       "     'brown hair': 0.99845541,\n",
       "     '1girl': 0.98799264,\n",
       "     'skirt': 0.98067391,\n",
       "     'scooter': 0.94161648,\n",
       "     'long hair': 0.94004679,\n",
       "     'cat': 0.93979621,\n",
       "     'brown eyes': 0.93354559,\n",
       "     'pencil skirt': 0.88353479,\n",
       "     'office lady': 0.87827986,\n",
       "     'hat': 0.86022431,\n",
       "     'jacket': 0.8399328,\n",
       "     'road': 0.82489645,\n",
       "     'suit': 0.81619197,\n",
       "     'shirt': 0.81615919,\n",
       "     'crosswalk': 0.81558925,\n",
       "     'formal': 0.81130916,\n",
       "     'city': 0.81041968,\n",
       "     'motorcycle': 0.809762,\n",
       "     'street': 0.80792391,\n",
       "     'outdoors': 0.80689192,\n",
       "     'dog': 0.79544276,\n",
       "     'solo focus': 0.79197478,\n",
       "     'building': 0.77764606,\n",
       "     'skirt suit': 0.77217394,\n",
       "     'helmet': 0.76629061,\n",
       "     'collared shirt': 0.7606318,\n",
       "     'closed mouth': 0.75663269,\n",
       "     'white shirt': 0.75308257,\n",
       "     'black skirt': 0.75109059,\n",
       "     'black footwear': 0.74694502,\n",
       "     'traffic light': 0.73942548,\n",
       "     'sign': 0.72744232,\n",
       "     'black jacket': 0.72015804,\n",
       "     'pantyhose': 0.71255779,\n",
       "     'standing': 0.70871073,\n",
       "     'road sign': 0.70312816,\n",
       "     'green headwear': 0.69729763,\n",
       "     'day': 0.69256186,\n",
       "     'high heels': 0.69255763,\n",
       "     'artist name': 0.69228721,\n",
       "     'bangs': 0.68237704,\n",
       "     'miniskirt': 0.6816532,\n",
       "     'wavy hair': 0.67967629,\n",
       "     '1boy': 0.67516637,\n",
       "     'breasts': 0.66789168,\n",
       "     'full body': 0.6678775,\n",
       "     'dress shirt': 0.65549594,\n",
       "     'multiple boys': 0.65080142,\n",
       "     'long sleeves': 0.64906156,\n",
       "     'motorcycle helmet': 0.64512658,\n",
       "     'taiwan': 0.63723028,\n",
       "     'crowd': 0.6333704,\n",
       "     '2boys': 0.63331592,\n",
       "     'white cat': 0.63330448,\n",
       "     'shadow': 0.63296157,\n",
       "     'tokyo (city)': 0.63082999,\n",
       "     'open clothes': 0.62922525,\n",
       "     'shoes': 0.62640709,\n",
       "     'looking to the side': 0.62351662,\n",
       "     'open jacket': 0.62148708,\n",
       "     'frown': 0.61969727,\n",
       "     'eyebrows visible through hair': 0.61794919,\n",
       "     'vespa': 0.617948,\n",
       "     'belt': 0.61778951,\n",
       "     'solo': 0.61456031,\n",
       "     'animal': 0.61386335,\n",
       "     'twitter username': 0.61228245,\n",
       "     'police': 0.60837555,\n",
       "     'wing collar': 0.6060645,\n",
       "     'business suit': 0.60601962},\n",
       "    'config': {}}),\n",
       "  ('huaban_ (51).jpg',\n",
       "   {'tag_str': '1girl, solo, japanese clothes, flower, kimono, hair ornament, hair flower, upper body, white background, short hair, closed eyes, smile, white flower, white kimono, sash, tree, closed mouth, obi, simple background, artist name, branch, english text, brown hair, red flower, half-closed eyes',\n",
       "    'tag_probs': {'1girl': 0.99992371,\n",
       "     'solo': 0.99899858,\n",
       "     'japanese clothes': 0.98613608,\n",
       "     'flower': 0.97842693,\n",
       "     'kimono': 0.96994126,\n",
       "     'hair ornament': 0.9531045,\n",
       "     'hair flower': 0.94287997,\n",
       "     'upper body': 0.90221107,\n",
       "     'white background': 0.88352686,\n",
       "     'short hair': 0.88301128,\n",
       "     'closed eyes': 0.86879772,\n",
       "     'smile': 0.83085221,\n",
       "     'white flower': 0.83039856,\n",
       "     'white kimono': 0.81757939,\n",
       "     'sash': 0.81137878,\n",
       "     'tree': 0.80607617,\n",
       "     'closed mouth': 0.79428512,\n",
       "     'obi': 0.78599244,\n",
       "     'simple background': 0.775343,\n",
       "     'artist name': 0.75927168,\n",
       "     'branch': 0.75537848,\n",
       "     'english text': 0.73814648,\n",
       "     'brown hair': 0.71748638,\n",
       "     'red flower': 0.70562446,\n",
       "     'half-closed eyes': 0.70187211,\n",
       "     'blue eyes': 0.69584835,\n",
       "     'alternate costume': 0.69422579,\n",
       "     'bangs': 0.69398147,\n",
       "     'floral print': 0.68577915,\n",
       "     'pink flower': 0.68559039,\n",
       "     'light smile': 0.68327886,\n",
       "     'looking at viewer': 0.68171978,\n",
       "     'eyelashes': 0.68055499,\n",
       "     'copyright name': 0.67757726,\n",
       "     'facing viewer': 0.67359716,\n",
       "     'character name': 0.65736365,\n",
       "     'pink hair': 0.65295714,\n",
       "     'leaf': 0.65275997,\n",
       "     'tied hair': 0.64945084,\n",
       "     'dated': 0.64375383,\n",
       "     'hair up': 0.63955539,\n",
       "     'long sleeves': 0.63572496,\n",
       "     'lips': 0.6328342,\n",
       "     'hair bun': 0.62242407,\n",
       "     'wide sleeves': 0.61914831,\n",
       "     'signature': 0.60275894},\n",
       "    'config': {}}),\n",
       "  ('huaban_ (159).jpg',\n",
       "   {'tag_str': '1girl, solo, thighhighs, long hair, open mouth, white legwear, skirt, shirt, smile, long sleeves, white shirt, two side up, brown eyes, breasts, ribbon, looking at viewer, hair ribbon, black skirt, :d, simple background, suspenders, suspender skirt, bangs, frills, puffy sleeves, eyebrows visible through hair, blush, black ribbon, medium breasts, grey background, steepled fingers, brown hair, juliet sleeves, very long hair, cowboy shot, white background, zettai ryouiki, own hands together, light brown hair, collared shirt, frilled skirt, pleated skirt, high-waist skirt, fingers together',\n",
       "    'tag_probs': {'1girl': 0.99999905,\n",
       "     'solo': 0.99997497,\n",
       "     'thighhighs': 0.99976367,\n",
       "     'long hair': 0.9990356,\n",
       "     'open mouth': 0.99508083,\n",
       "     'white legwear': 0.99393493,\n",
       "     'skirt': 0.98160499,\n",
       "     'shirt': 0.97945398,\n",
       "     'smile': 0.97729003,\n",
       "     'long sleeves': 0.97605431,\n",
       "     'white shirt': 0.96863985,\n",
       "     'two side up': 0.96674973,\n",
       "     'brown eyes': 0.96005088,\n",
       "     'breasts': 0.95218283,\n",
       "     'ribbon': 0.94578552,\n",
       "     'looking at viewer': 0.9429884,\n",
       "     'hair ribbon': 0.93571568,\n",
       "     'black skirt': 0.930462,\n",
       "     ':d': 0.92175961,\n",
       "     'simple background': 0.9193024,\n",
       "     'suspenders': 0.91323227,\n",
       "     'suspender skirt': 0.91302985,\n",
       "     'bangs': 0.90395153,\n",
       "     'frills': 0.88520736,\n",
       "     'puffy sleeves': 0.88470984,\n",
       "     'eyebrows visible through hair': 0.87322229,\n",
       "     'blush': 0.87204027,\n",
       "     'black ribbon': 0.86818701,\n",
       "     'medium breasts': 0.86478144,\n",
       "     'grey background': 0.85199648,\n",
       "     'steepled fingers': 0.83596653,\n",
       "     'brown hair': 0.82271039,\n",
       "     'juliet sleeves': 0.81993073,\n",
       "     'very long hair': 0.81630862,\n",
       "     'cowboy shot': 0.80597246,\n",
       "     'white background': 0.75820506,\n",
       "     'zettai ryouiki': 0.74489945,\n",
       "     'own hands together': 0.74065566,\n",
       "     'light brown hair': 0.74019426,\n",
       "     'collared shirt': 0.7396732,\n",
       "     'frilled skirt': 0.73894805,\n",
       "     'pleated skirt': 0.71639764,\n",
       "     'high-waist skirt': 0.71364677,\n",
       "     'fingers together': 0.70983773,\n",
       "     'puffy long sleeves': 0.68491703,\n",
       "     'bow': 0.6804328,\n",
       "     'standing': 0.65449911,\n",
       "     'sidelocks': 0.64894527,\n",
       "     'frilled legwear': 0.64225477,\n",
       "     'frilled sleeves': 0.63982475,\n",
       "     'ribbon trim': 0.61922365,\n",
       "     'ribbon-trimmed legwear': 0.60914201,\n",
       "     'dress shirt': 0.60575938,\n",
       "     'large breasts': 0.60100877,\n",
       "     'center frills': 0.60019314},\n",
       "    'config': {}})]}"
      ]
     },
     "execution_count": 6,
     "metadata": {},
     "output_type": "execute_result"
    }
   ],
   "source": [
    "import unibox as ub\n",
    "ub.peeks(bench_tag_dict)"
   ]
  }
 ],
 "metadata": {
  "kernelspec": {
   "display_name": "base",
   "language": "python",
   "name": "python3"
  },
  "language_info": {
   "codemirror_mode": {
    "name": "ipython",
    "version": 3
   },
   "file_extension": ".py",
   "mimetype": "text/x-python",
   "name": "python",
   "nbconvert_exporter": "python",
   "pygments_lexer": "ipython3",
   "version": "3.10.12"
  }
 },
 "nbformat": 4,
 "nbformat_minor": 2
}
